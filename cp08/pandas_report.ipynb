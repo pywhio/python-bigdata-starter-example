{
 "cells": [
  {
   "cell_type": "code",
   "execution_count": 1,
   "metadata": {},
   "outputs": [
    {
     "data": {
      "text/html": [
       "<div>\n",
       "<style scoped>\n",
       "    .dataframe tbody tr th:only-of-type {\n",
       "        vertical-align: middle;\n",
       "    }\n",
       "\n",
       "    .dataframe tbody tr th {\n",
       "        vertical-align: top;\n",
       "    }\n",
       "\n",
       "    .dataframe thead th {\n",
       "        text-align: right;\n",
       "    }\n",
       "</style>\n",
       "<table border=\"1\" class=\"dataframe\">\n",
       "  <thead>\n",
       "    <tr style=\"text-align: right;\">\n",
       "      <th></th>\n",
       "      <th>交易序号</th>\n",
       "      <th>交易时间</th>\n",
       "      <th>交易网点</th>\n",
       "      <th>操作员编号</th>\n",
       "      <th>客户id</th>\n",
       "      <th>客户名称</th>\n",
       "      <th>交易类型</th>\n",
       "      <th>交易金额</th>\n",
       "    </tr>\n",
       "  </thead>\n",
       "  <tbody>\n",
       "    <tr>\n",
       "      <th>0</th>\n",
       "      <td>tac-001</td>\n",
       "      <td>201802071002</td>\n",
       "      <td>QLR</td>\n",
       "      <td>op01</td>\n",
       "      <td>cu01</td>\n",
       "      <td>张三</td>\n",
       "      <td>deposit</td>\n",
       "      <td>1000</td>\n",
       "    </tr>\n",
       "    <tr>\n",
       "      <th>1</th>\n",
       "      <td>tac-002</td>\n",
       "      <td>201802071004</td>\n",
       "      <td>QLR</td>\n",
       "      <td>op01</td>\n",
       "      <td>cu01</td>\n",
       "      <td>张三</td>\n",
       "      <td>deposit</td>\n",
       "      <td>5000</td>\n",
       "    </tr>\n",
       "    <tr>\n",
       "      <th>2</th>\n",
       "      <td>tac-003</td>\n",
       "      <td>201802071006</td>\n",
       "      <td>QLR</td>\n",
       "      <td>op01</td>\n",
       "      <td>cu02</td>\n",
       "      <td>李四</td>\n",
       "      <td>Withdrawal</td>\n",
       "      <td>2000</td>\n",
       "    </tr>\n",
       "    <tr>\n",
       "      <th>3</th>\n",
       "      <td>tac-004</td>\n",
       "      <td>201802071008</td>\n",
       "      <td>QLR</td>\n",
       "      <td>op01</td>\n",
       "      <td>cu02</td>\n",
       "      <td>李四</td>\n",
       "      <td>Withdrawal</td>\n",
       "      <td>3000</td>\n",
       "    </tr>\n",
       "    <tr>\n",
       "      <th>4</th>\n",
       "      <td>tac-005</td>\n",
       "      <td>201802071010</td>\n",
       "      <td>QLR</td>\n",
       "      <td>op02</td>\n",
       "      <td>cu03</td>\n",
       "      <td>王五</td>\n",
       "      <td>deposit</td>\n",
       "      <td>1000</td>\n",
       "    </tr>\n",
       "    <tr>\n",
       "      <th>5</th>\n",
       "      <td>tac-006</td>\n",
       "      <td>201802071011</td>\n",
       "      <td>QLR</td>\n",
       "      <td>op02</td>\n",
       "      <td>cu03</td>\n",
       "      <td>王五</td>\n",
       "      <td>deposit</td>\n",
       "      <td>5000</td>\n",
       "    </tr>\n",
       "  </tbody>\n",
       "</table>\n",
       "</div>"
      ],
      "text/plain": [
       "      交易序号          交易时间 交易网点 操作员编号  客户id 客户名称        交易类型  交易金额\n",
       "0  tac-001  201802071002  QLR  op01  cu01   张三     deposit  1000\n",
       "1  tac-002  201802071004  QLR  op01  cu01   张三     deposit  5000\n",
       "2  tac-003  201802071006  QLR  op01  cu02   李四  Withdrawal  2000\n",
       "3  tac-004  201802071008  QLR  op01  cu02   李四  Withdrawal  3000\n",
       "4  tac-005  201802071010  QLR  op02  cu03   王五     deposit  1000\n",
       "5  tac-006  201802071011  QLR  op02  cu03   王五     deposit  5000"
      ]
     },
     "execution_count": 1,
     "metadata": {},
     "output_type": "execute_result"
    }
   ],
   "source": [
    "import pandas as pd\n",
    "\n",
    "df = pd.read_csv('QLR201902071000-merged.csv')\n",
    "df"
   ]
  },
  {
   "cell_type": "code",
   "execution_count": 6,
   "metadata": {},
   "outputs": [
    {
     "data": {
      "text/plain": [
       "'交易网点,交易类型,交易金额\\nQLR,Withdrawal,3000\\nQLR,deposit,5000\\n'"
      ]
     },
     "execution_count": 6,
     "metadata": {},
     "output_type": "execute_result"
    }
   ],
   "source": [
    "df.groupby(['交易网点','交易类型']).agg({'交易金额':'max'}).to_csv()"
   ]
  },
  {
   "cell_type": "code",
   "execution_count": null,
   "metadata": {},
   "outputs": [],
   "source": []
  }
 ],
 "metadata": {
  "kernelspec": {
   "display_name": "Python 3",
   "language": "python",
   "name": "python3"
  },
  "language_info": {
   "codemirror_mode": {
    "name": "ipython",
    "version": 3
   },
   "file_extension": ".py",
   "mimetype": "text/x-python",
   "name": "python",
   "nbconvert_exporter": "python",
   "pygments_lexer": "ipython3",
   "version": "3.6.5"
  }
 },
 "nbformat": 4,
 "nbformat_minor": 2
}
