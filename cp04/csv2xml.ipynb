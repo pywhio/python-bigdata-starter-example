{
 "cells": [
  {
   "cell_type": "code",
   "execution_count": 44,
   "metadata": {},
   "outputs": [],
   "source": [
    "import lxml.etree as ET\n",
    "import pandas as pd\n",
    "import sys, os\n",
    "\n",
    "sys.path.append('../')\n",
    "from cp03.merge_csv  import csv_reader, get_FileSize\n",
    "\n",
    "fileheader = pd.read_excel(\"./CP4- header 规划.xlsx\",index_col=\"文件名\").to_dict(\"index\")\n",
    "\n",
    "fileheader[list(fileheader.keys())[0]]\n",
    "\n",
    "\n",
    "def qlr_csv2xml(filename, header):\n",
    "    XML_NAMESPACE = 'http://www.w3.org/2001/XMLSchema-instance'\n",
    "    XML = '{%s}' % XML_NAMESPACE\n",
    "    NSMAP = {None : XML_NAMESPACE}\n",
    "\n",
    "    QlrFile = ET.Element(XML + \"QlrFile\", nsmap = NSMAP)\n",
    "    QlrFile.set(XML + \"noNamespaceSchemaLocation\", \"QlrFileFormat.xsd\")\n",
    "\n",
    "    FileHeader = ET.SubElement(QlrFile, \"FileHeader\")\n",
    "    for k,v in header.items():\n",
    "        i = ET.SubElement(FileHeader, k )\n",
    "        i.text = str(v)\n",
    "\n",
    "    Measurements = ET.SubElement(QlrFile, \"Measurements\")\n",
    "    ObjectType =  ET.SubElement(Measurements, \"ObjectType\")\n",
    "    ObjectType.text = 'Ticket'\n",
    "\n",
    "    QlrName =  ET.SubElement(Measurements, \"QlrName\")\n",
    "    csv_rows = csv_reader(filename)\n",
    "    for k,v in enumerate(csv_rows[0] , 1) :\n",
    "        i = ET.SubElement(QlrName, \"N\" )\n",
    "        i.set(\"i\", str(k))\n",
    "        i.text = v\n",
    "\n",
    "    QlrData = ET.SubElement(Measurements, \"QlrData\")\n",
    "    for k,v in enumerate(csv_rows[1:] , 1) :\n",
    "        Qlr = ET.SubElement(QlrName, \"Qlr\" )\n",
    "        Qlr.set(\"Dn\", str(k))\n",
    "        for l, w in enumerate(v , 1) :\n",
    "            i = ET.SubElement(Qlr, \"V\" )\n",
    "            i.set(\"i\", str(l) )\n",
    "            i.text = w\n",
    "    \n",
    "    ET.ElementTree(QlrFile).write(os.path.splitext(filename)[0]+\".xml\", encoding='UTF-8', xml_declaration=True, method='xml', pretty_print = True)\n",
    "\n",
    "qlr_csv2xml(list(fileheader.keys())[0], fileheader[list(fileheader.keys())[0]])"
   ]
  },
  {
   "cell_type": "code",
   "execution_count": null,
   "metadata": {},
   "outputs": [],
   "source": []
  }
 ],
 "metadata": {
  "kernelspec": {
   "display_name": "Python 3",
   "language": "python",
   "name": "python3"
  },
  "language_info": {
   "codemirror_mode": {
    "name": "ipython",
    "version": 3
   },
   "file_extension": ".py",
   "mimetype": "text/x-python",
   "name": "python",
   "nbconvert_exporter": "python",
   "pygments_lexer": "ipython3",
   "version": "3.6.5"
  }
 },
 "nbformat": 4,
 "nbformat_minor": 2
}
